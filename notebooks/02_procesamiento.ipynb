{
 "cells": [
  {
   "cell_type": "markdown",
   "metadata": {},
   "source": [
    "### **Procesamiento de datos**\n",
    "\n",
    "El procesamiento de datos es una parte fundamental para asegurarnos de que el dataset esté limpio y listo para su uso en modelos predictivos. Vamos a aplicar técnicas de preprocesamiento de datos para limpiar y transformar el dataset.\n",
    "\n",
    "Nos enfocaremos en las siguientes tareas:\n",
    "- **Limpieza de datos**: Manejar valores faltantes y duplicados.\n",
    "- **Codificación de variables categóricas**: Convertir variables categóricas en numéricas.\n",
    "- **Escalado de características**: Normalizar las características para que tengan una escala similar, si es necesario.\n",
    "- **Manejo de valores nulos**: Manejar valores nulos en el dataset, mediante eliminación o imputación.\n",
    "- **Eliminación de datos duplicados**: Eliminar datos duplicados en el dataset."
   ]
  },
  {
   "cell_type": "markdown",
   "metadata": {},
   "source": [
    "### **Importación de librerías**"
   ]
  },
  {
   "cell_type": "code",
   "execution_count": 13,
   "metadata": {},
   "outputs": [],
   "source": [
    "import pandas as pd\n",
    "from sklearn.preprocessing import OrdinalEncoder, LabelEncoder\n",
    "import matplotlib.pyplot as plt\n",
    "import seaborn as sns\n",
    "\n",
    "pd.set_option('display.max_columns', None)\n",
    "pd.set_option('display.width', 1000)"
   ]
  },
  {
   "cell_type": "markdown",
   "metadata": {},
   "source": [
    "### **Importación de datos del Dataset**"
   ]
  },
  {
   "cell_type": "code",
   "execution_count": 2,
   "metadata": {},
   "outputs": [
    {
     "data": {
      "text/html": [
       "<div>\n",
       "<style scoped>\n",
       "    .dataframe tbody tr th:only-of-type {\n",
       "        vertical-align: middle;\n",
       "    }\n",
       "\n",
       "    .dataframe tbody tr th {\n",
       "        vertical-align: top;\n",
       "    }\n",
       "\n",
       "    .dataframe thead th {\n",
       "        text-align: right;\n",
       "    }\n",
       "</style>\n",
       "<table border=\"1\" class=\"dataframe\">\n",
       "  <thead>\n",
       "    <tr style=\"text-align: right;\">\n",
       "      <th></th>\n",
       "      <th>PRODUCTO</th>\n",
       "      <th>TIPO_CARROCERIA</th>\n",
       "      <th>COMBUSTIBLE</th>\n",
       "      <th>Potencia</th>\n",
       "      <th>TRANS</th>\n",
       "      <th>FORMA_PAGO</th>\n",
       "      <th>ESTADO_CIVIL</th>\n",
       "      <th>GENERO</th>\n",
       "      <th>OcupaciOn</th>\n",
       "      <th>PROVINCIA</th>\n",
       "      <th>Campanna1</th>\n",
       "      <th>Campanna2</th>\n",
       "      <th>Campanna3</th>\n",
       "      <th>Zona_Renta</th>\n",
       "      <th>REV_Garantia</th>\n",
       "      <th>Averia_grave</th>\n",
       "      <th>QUEJA_CAC</th>\n",
       "      <th>COSTE_VENTA</th>\n",
       "      <th>km_anno</th>\n",
       "      <th>Mas_1_coche</th>\n",
       "      <th>Revisiones</th>\n",
       "      <th>Edad_Cliente</th>\n",
       "      <th>Tiempo</th>\n",
       "    </tr>\n",
       "    <tr>\n",
       "      <th>CODE</th>\n",
       "      <th></th>\n",
       "      <th></th>\n",
       "      <th></th>\n",
       "      <th></th>\n",
       "      <th></th>\n",
       "      <th></th>\n",
       "      <th></th>\n",
       "      <th></th>\n",
       "      <th></th>\n",
       "      <th></th>\n",
       "      <th></th>\n",
       "      <th></th>\n",
       "      <th></th>\n",
       "      <th></th>\n",
       "      <th></th>\n",
       "      <th></th>\n",
       "      <th></th>\n",
       "      <th></th>\n",
       "      <th></th>\n",
       "      <th></th>\n",
       "      <th></th>\n",
       "      <th></th>\n",
       "      <th></th>\n",
       "    </tr>\n",
       "  </thead>\n",
       "  <tbody>\n",
       "    <tr>\n",
       "      <th>CLI1</th>\n",
       "      <td>A</td>\n",
       "      <td>TIPO1</td>\n",
       "      <td>FUEL 1</td>\n",
       "      <td>Baja</td>\n",
       "      <td>M</td>\n",
       "      <td>Contado</td>\n",
       "      <td>CASADO</td>\n",
       "      <td>M</td>\n",
       "      <td>Empresa</td>\n",
       "      <td>Asturias</td>\n",
       "      <td>SI</td>\n",
       "      <td>NO</td>\n",
       "      <td>NO</td>\n",
       "      <td>Medio-Bajo</td>\n",
       "      <td>NO DATA</td>\n",
       "      <td>Averia muy grave</td>\n",
       "      <td>SI</td>\n",
       "      <td>2892</td>\n",
       "      <td>0</td>\n",
       "      <td>False</td>\n",
       "      <td>2</td>\n",
       "      <td>18</td>\n",
       "      <td>0</td>\n",
       "    </tr>\n",
       "    <tr>\n",
       "      <th>CLI2</th>\n",
       "      <td>A</td>\n",
       "      <td>TIPO1</td>\n",
       "      <td>FUEL 1</td>\n",
       "      <td>Baja</td>\n",
       "      <td>M</td>\n",
       "      <td>Contado</td>\n",
       "      <td>CASADO</td>\n",
       "      <td>F</td>\n",
       "      <td>Empresa</td>\n",
       "      <td>Toledo</td>\n",
       "      <td>NO</td>\n",
       "      <td>NO</td>\n",
       "      <td>NO</td>\n",
       "      <td>Medio-Bajo</td>\n",
       "      <td>SI</td>\n",
       "      <td>No</td>\n",
       "      <td>NO</td>\n",
       "      <td>1376</td>\n",
       "      <td>7187</td>\n",
       "      <td>False</td>\n",
       "      <td>2</td>\n",
       "      <td>53</td>\n",
       "      <td>0</td>\n",
       "    </tr>\n",
       "    <tr>\n",
       "      <th>CLI3</th>\n",
       "      <td>A</td>\n",
       "      <td>TIPO1</td>\n",
       "      <td>FUEL 1</td>\n",
       "      <td>Baja</td>\n",
       "      <td>M</td>\n",
       "      <td>Otros</td>\n",
       "      <td>CASADO</td>\n",
       "      <td>M</td>\n",
       "      <td>Empresa</td>\n",
       "      <td>Lerida</td>\n",
       "      <td>NO</td>\n",
       "      <td>NO</td>\n",
       "      <td>NO</td>\n",
       "      <td>Medio</td>\n",
       "      <td>NO DATA</td>\n",
       "      <td>No</td>\n",
       "      <td>NO</td>\n",
       "      <td>1376</td>\n",
       "      <td>0</td>\n",
       "      <td>True</td>\n",
       "      <td>4</td>\n",
       "      <td>21</td>\n",
       "      <td>3</td>\n",
       "    </tr>\n",
       "    <tr>\n",
       "      <th>CLI4</th>\n",
       "      <td>A</td>\n",
       "      <td>TIPO1</td>\n",
       "      <td>FUEL 1</td>\n",
       "      <td>Baja</td>\n",
       "      <td>M</td>\n",
       "      <td>Financiera Marca</td>\n",
       "      <td>CASADO</td>\n",
       "      <td>F</td>\n",
       "      <td>Empresa</td>\n",
       "      <td>Madrid</td>\n",
       "      <td>SI</td>\n",
       "      <td>NO</td>\n",
       "      <td>NO</td>\n",
       "      <td>Medio</td>\n",
       "      <td>SI</td>\n",
       "      <td>Averia muy grave</td>\n",
       "      <td>SI</td>\n",
       "      <td>2015</td>\n",
       "      <td>7256</td>\n",
       "      <td>True</td>\n",
       "      <td>4</td>\n",
       "      <td>48</td>\n",
       "      <td>5</td>\n",
       "    </tr>\n",
       "    <tr>\n",
       "      <th>CLI5</th>\n",
       "      <td>A</td>\n",
       "      <td>TIPO1</td>\n",
       "      <td>FUEL 1</td>\n",
       "      <td>Baja</td>\n",
       "      <td>M</td>\n",
       "      <td>Financiera Marca</td>\n",
       "      <td>CASADO</td>\n",
       "      <td>F</td>\n",
       "      <td>Funcionario</td>\n",
       "      <td>Santa Cruz de Tenerife</td>\n",
       "      <td>SI</td>\n",
       "      <td>NO</td>\n",
       "      <td>SI</td>\n",
       "      <td>Alto</td>\n",
       "      <td>NO DATA</td>\n",
       "      <td>No</td>\n",
       "      <td>NO</td>\n",
       "      <td>1818</td>\n",
       "      <td>0</td>\n",
       "      <td>True</td>\n",
       "      <td>3</td>\n",
       "      <td>21</td>\n",
       "      <td>3</td>\n",
       "    </tr>\n",
       "  </tbody>\n",
       "</table>\n",
       "</div>"
      ],
      "text/plain": [
       "     PRODUCTO TIPO_CARROCERIA COMBUSTIBLE Potencia TRANS        FORMA_PAGO ESTADO_CIVIL GENERO    OcupaciOn               PROVINCIA Campanna1 Campanna2 Campanna3  Zona_Renta REV_Garantia      Averia_grave QUEJA_CAC  COSTE_VENTA  km_anno  Mas_1_coche  Revisiones  Edad_Cliente  Tiempo\n",
       "CODE                                                                                                                                                                                                                                                                                       \n",
       "CLI1        A           TIPO1      FUEL 1     Baja     M           Contado       CASADO      M      Empresa                Asturias        SI        NO        NO  Medio-Bajo      NO DATA  Averia muy grave        SI         2892        0        False           2            18       0\n",
       "CLI2        A           TIPO1      FUEL 1     Baja     M           Contado       CASADO      F      Empresa                  Toledo        NO        NO        NO  Medio-Bajo           SI                No        NO         1376     7187        False           2            53       0\n",
       "CLI3        A           TIPO1      FUEL 1     Baja     M             Otros       CASADO      M      Empresa                  Lerida        NO        NO        NO       Medio      NO DATA                No        NO         1376        0         True           4            21       3\n",
       "CLI4        A           TIPO1      FUEL 1     Baja     M  Financiera Marca       CASADO      F      Empresa                  Madrid        SI        NO        NO       Medio           SI  Averia muy grave        SI         2015     7256         True           4            48       5\n",
       "CLI5        A           TIPO1      FUEL 1     Baja     M  Financiera Marca       CASADO      F  Funcionario  Santa Cruz de Tenerife        SI        NO        SI        Alto      NO DATA                No        NO         1818        0         True           3            21       3"
      ]
     },
     "execution_count": 2,
     "metadata": {},
     "output_type": "execute_result"
    }
   ],
   "source": [
    "df = pd.read_csv('../data/raw/IA_PROPENSITY_TRAIN.csv', index_col=0)\n",
    "df.head()"
   ]
  },
  {
   "cell_type": "code",
   "execution_count": 3,
   "metadata": {},
   "outputs": [
    {
     "data": {
      "text/plain": [
       "(58049, 23)"
      ]
     },
     "execution_count": 3,
     "metadata": {},
     "output_type": "execute_result"
    }
   ],
   "source": [
    "df.shape"
   ]
  },
  {
   "cell_type": "code",
   "execution_count": 4,
   "metadata": {},
   "outputs": [
    {
     "name": "stdout",
     "output_type": "stream",
     "text": [
      "<class 'pandas.core.frame.DataFrame'>\n",
      "Index: 58049 entries, CLI1 to CLI58048\n",
      "Data columns (total 23 columns):\n",
      " #   Column           Non-Null Count  Dtype \n",
      "---  ------           --------------  ----- \n",
      " 0   PRODUCTO         58049 non-null  object\n",
      " 1   TIPO_CARROCERIA  58049 non-null  object\n",
      " 2   COMBUSTIBLE      58049 non-null  object\n",
      " 3   Potencia         58049 non-null  object\n",
      " 4   TRANS            58049 non-null  object\n",
      " 5   FORMA_PAGO       58049 non-null  object\n",
      " 6   ESTADO_CIVIL     57159 non-null  object\n",
      " 7   GENERO           57189 non-null  object\n",
      " 8   OcupaciOn        58049 non-null  object\n",
      " 9   PROVINCIA        58049 non-null  object\n",
      " 10  Campanna1        58049 non-null  object\n",
      " 11  Campanna2        58049 non-null  object\n",
      " 12  Campanna3        58049 non-null  object\n",
      " 13  Zona_Renta       44871 non-null  object\n",
      " 14  REV_Garantia     58049 non-null  object\n",
      " 15  Averia_grave     58048 non-null  object\n",
      " 16  QUEJA_CAC        58049 non-null  object\n",
      " 17  COSTE_VENTA      58049 non-null  int64 \n",
      " 18  km_anno          58049 non-null  int64 \n",
      " 19  Mas_1_coche      58049 non-null  bool  \n",
      " 20  Revisiones       58049 non-null  int64 \n",
      " 21  Edad_Cliente     58049 non-null  int64 \n",
      " 22  Tiempo           58049 non-null  int64 \n",
      "dtypes: bool(1), int64(5), object(17)\n",
      "memory usage: 10.2+ MB\n"
     ]
    }
   ],
   "source": [
    "df.info()"
   ]
  },
  {
   "cell_type": "code",
   "execution_count": 19,
   "metadata": {},
   "outputs": [
    {
     "data": {
      "text/plain": [
       "PRODUCTO           object\n",
       "TIPO_CARROCERIA    object\n",
       "COMBUSTIBLE        object\n",
       "Potencia           object\n",
       "TRANS              object\n",
       "FORMA_PAGO         object\n",
       "ESTADO_CIVIL       object\n",
       "GENERO             object\n",
       "OcupaciOn          object\n",
       "PROVINCIA          object\n",
       "Campanna1          object\n",
       "Campanna2          object\n",
       "Campanna3          object\n",
       "Zona_Renta         object\n",
       "REV_Garantia       object\n",
       "Averia_grave       object\n",
       "QUEJA_CAC          object\n",
       "COSTE_VENTA         int64\n",
       "km_anno             int64\n",
       "Mas_1_coche          bool\n",
       "Revisiones          int64\n",
       "Edad_Cliente        int64\n",
       "Tiempo              int64\n",
       "dtype: object"
      ]
     },
     "execution_count": 19,
     "metadata": {},
     "output_type": "execute_result"
    }
   ],
   "source": [
    "df.dtypes"
   ]
  },
  {
   "cell_type": "code",
   "execution_count": 5,
   "metadata": {},
   "outputs": [
    {
     "data": {
      "text/plain": [
       "Index(['PRODUCTO', 'TIPO_CARROCERIA', 'COMBUSTIBLE', 'Potencia', 'TRANS', 'FORMA_PAGO', 'ESTADO_CIVIL', 'GENERO', 'OcupaciOn', 'PROVINCIA', 'Campanna1', 'Campanna2', 'Campanna3', 'Zona_Renta', 'REV_Garantia', 'Averia_grave', 'QUEJA_CAC', 'COSTE_VENTA', 'km_anno', 'Mas_1_coche', 'Revisiones', 'Edad_Cliente', 'Tiempo'], dtype='object')"
      ]
     },
     "execution_count": 5,
     "metadata": {},
     "output_type": "execute_result"
    }
   ],
   "source": [
    "df.columns"
   ]
  },
  {
   "cell_type": "markdown",
   "metadata": {},
   "source": [
    "Nos disponemos a describir las variables incluidas en el dataset, utilizadas para el análisis de propensión de un cliente a comprar automóviles:\n",
    "\n",
    "\n",
    "- **`CODE`** _(object)_ → Código único del cliente.\n",
    "- **`PRODUCTO`** _(object)_ → Tipo de producto asociado al cliente.\n",
    "- **`TIPO_CARROCERIA`** _(object)_ → Tipo de carrocería del vehículo.\n",
    "- **`COMBUSTIBLE`** _(object)_ → Tipo de combustible utilizado.\n",
    "- **`Potencia`** _(object)_ → Categoría de potencia del vehículo (Ej.: \"Baja\").\n",
    "- **`TRANS`** _(object)_ → Tipo de transmisión (Ej.: manual, automática).\n",
    "- **`FORMA_PAGO`** _(object)_ → Método de pago (Ej.: contado, financiera).\n",
    "- **`ESTADO_CIVIL`** _(object, con valores nulos)_ → Estado civil del cliente.\n",
    "- **`GENERO`** _(object, con valores nulos)_ → Género del cliente.\n",
    "- **`OcupaciOn`** _(object)_ → Profesión del cliente (Ej.: \"Funcionario\", \"Empresa\").\n",
    "- **`PROVINCIA`** _(object)_ → Ubicación geográfica del cliente.\n",
    "- **`Campanna1`, `Campanna2`, `Campanna3`** _(object)_ → Posibles campañas de marketing asociadas al cliente.\n",
    "- **`Zona_Renta`** _(object, con valores nulos)_ → Nivel socioeconómico del cliente.\n",
    "- **`REV_Garantia`** _(object)_ → Indica si el cliente ha realizado revisiones en garantía.\n",
    "- **`Averia_grave`** _(object, un valor nulo)_ → Historial de averías graves del vehículo.\n",
    "- **`QUEJA_CAC`** _(object)_ → Indica si el cliente ha registrado una queja en atención al cliente.\n",
    "- **`COSTE_VENTA`** _(int64)_ → Monto total de la venta (valor numérico).\n",
    "- **`km_anno`** _(int64)_ → Kilómetros recorridos por año.\n",
    "- **`Mas_1_coche`** _(bool)_ → Indica si el cliente tiene más de un coche.\n",
    "- **`Revisiones`** _(int64)_ → Número de revisiones realizadas.\n",
    "- **`Edad_Cliente`** _(int64)_ → Edad del cliente.\n",
    "- **`Tiempo`** _(int64)_ → Tiempo en años desde que es cliente."
   ]
  },
  {
   "cell_type": "code",
   "execution_count": 6,
   "metadata": {},
   "outputs": [
    {
     "data": {
      "text/html": [
       "<div>\n",
       "<style scoped>\n",
       "    .dataframe tbody tr th:only-of-type {\n",
       "        vertical-align: middle;\n",
       "    }\n",
       "\n",
       "    .dataframe tbody tr th {\n",
       "        vertical-align: top;\n",
       "    }\n",
       "\n",
       "    .dataframe thead th {\n",
       "        text-align: right;\n",
       "    }\n",
       "</style>\n",
       "<table border=\"1\" class=\"dataframe\">\n",
       "  <thead>\n",
       "    <tr style=\"text-align: right;\">\n",
       "      <th></th>\n",
       "      <th>PRODUCTO</th>\n",
       "      <th>TIPO_CARROCERIA</th>\n",
       "      <th>COMBUSTIBLE</th>\n",
       "      <th>Potencia</th>\n",
       "      <th>TRANS</th>\n",
       "      <th>FORMA_PAGO</th>\n",
       "      <th>ESTADO_CIVIL</th>\n",
       "      <th>GENERO</th>\n",
       "      <th>OcupaciOn</th>\n",
       "      <th>PROVINCIA</th>\n",
       "      <th>Campanna1</th>\n",
       "      <th>Campanna2</th>\n",
       "      <th>Campanna3</th>\n",
       "      <th>Zona_Renta</th>\n",
       "      <th>REV_Garantia</th>\n",
       "      <th>Averia_grave</th>\n",
       "      <th>QUEJA_CAC</th>\n",
       "      <th>COSTE_VENTA</th>\n",
       "      <th>km_anno</th>\n",
       "      <th>Mas_1_coche</th>\n",
       "      <th>Revisiones</th>\n",
       "      <th>Edad_Cliente</th>\n",
       "      <th>Tiempo</th>\n",
       "    </tr>\n",
       "    <tr>\n",
       "      <th>CODE</th>\n",
       "      <th></th>\n",
       "      <th></th>\n",
       "      <th></th>\n",
       "      <th></th>\n",
       "      <th></th>\n",
       "      <th></th>\n",
       "      <th></th>\n",
       "      <th></th>\n",
       "      <th></th>\n",
       "      <th></th>\n",
       "      <th></th>\n",
       "      <th></th>\n",
       "      <th></th>\n",
       "      <th></th>\n",
       "      <th></th>\n",
       "      <th></th>\n",
       "      <th></th>\n",
       "      <th></th>\n",
       "      <th></th>\n",
       "      <th></th>\n",
       "      <th></th>\n",
       "      <th></th>\n",
       "      <th></th>\n",
       "    </tr>\n",
       "  </thead>\n",
       "  <tbody>\n",
       "    <tr>\n",
       "      <th>CLI1</th>\n",
       "      <td>A</td>\n",
       "      <td>TIPO1</td>\n",
       "      <td>FUEL 1</td>\n",
       "      <td>Baja</td>\n",
       "      <td>M</td>\n",
       "      <td>Contado</td>\n",
       "      <td>CASADO</td>\n",
       "      <td>M</td>\n",
       "      <td>Empresa</td>\n",
       "      <td>Asturias</td>\n",
       "      <td>SI</td>\n",
       "      <td>NO</td>\n",
       "      <td>NO</td>\n",
       "      <td>Medio-Bajo</td>\n",
       "      <td>NO DATA</td>\n",
       "      <td>Averia muy grave</td>\n",
       "      <td>SI</td>\n",
       "      <td>2892</td>\n",
       "      <td>0</td>\n",
       "      <td>False</td>\n",
       "      <td>2</td>\n",
       "      <td>18</td>\n",
       "      <td>0</td>\n",
       "    </tr>\n",
       "    <tr>\n",
       "      <th>CLI2</th>\n",
       "      <td>A</td>\n",
       "      <td>TIPO1</td>\n",
       "      <td>FUEL 1</td>\n",
       "      <td>Baja</td>\n",
       "      <td>M</td>\n",
       "      <td>Contado</td>\n",
       "      <td>CASADO</td>\n",
       "      <td>F</td>\n",
       "      <td>Empresa</td>\n",
       "      <td>Toledo</td>\n",
       "      <td>NO</td>\n",
       "      <td>NO</td>\n",
       "      <td>NO</td>\n",
       "      <td>Medio-Bajo</td>\n",
       "      <td>SI</td>\n",
       "      <td>No</td>\n",
       "      <td>NO</td>\n",
       "      <td>1376</td>\n",
       "      <td>7187</td>\n",
       "      <td>False</td>\n",
       "      <td>2</td>\n",
       "      <td>53</td>\n",
       "      <td>0</td>\n",
       "    </tr>\n",
       "    <tr>\n",
       "      <th>CLI3</th>\n",
       "      <td>A</td>\n",
       "      <td>TIPO1</td>\n",
       "      <td>FUEL 1</td>\n",
       "      <td>Baja</td>\n",
       "      <td>M</td>\n",
       "      <td>Otros</td>\n",
       "      <td>CASADO</td>\n",
       "      <td>M</td>\n",
       "      <td>Empresa</td>\n",
       "      <td>Lerida</td>\n",
       "      <td>NO</td>\n",
       "      <td>NO</td>\n",
       "      <td>NO</td>\n",
       "      <td>Medio</td>\n",
       "      <td>NO DATA</td>\n",
       "      <td>No</td>\n",
       "      <td>NO</td>\n",
       "      <td>1376</td>\n",
       "      <td>0</td>\n",
       "      <td>True</td>\n",
       "      <td>4</td>\n",
       "      <td>21</td>\n",
       "      <td>3</td>\n",
       "    </tr>\n",
       "  </tbody>\n",
       "</table>\n",
       "</div>"
      ],
      "text/plain": [
       "     PRODUCTO TIPO_CARROCERIA COMBUSTIBLE Potencia TRANS FORMA_PAGO ESTADO_CIVIL GENERO OcupaciOn PROVINCIA Campanna1 Campanna2 Campanna3  Zona_Renta REV_Garantia      Averia_grave QUEJA_CAC  COSTE_VENTA  km_anno  Mas_1_coche  Revisiones  Edad_Cliente  Tiempo\n",
       "CODE                                                                                                                                                                                                                                                               \n",
       "CLI1        A           TIPO1      FUEL 1     Baja     M    Contado       CASADO      M   Empresa  Asturias        SI        NO        NO  Medio-Bajo      NO DATA  Averia muy grave        SI         2892        0        False           2            18       0\n",
       "CLI2        A           TIPO1      FUEL 1     Baja     M    Contado       CASADO      F   Empresa    Toledo        NO        NO        NO  Medio-Bajo           SI                No        NO         1376     7187        False           2            53       0\n",
       "CLI3        A           TIPO1      FUEL 1     Baja     M      Otros       CASADO      M   Empresa    Lerida        NO        NO        NO       Medio      NO DATA                No        NO         1376        0         True           4            21       3"
      ]
     },
     "execution_count": 6,
     "metadata": {},
     "output_type": "execute_result"
    }
   ],
   "source": [
    "df.head(3)"
   ]
  },
  {
   "cell_type": "markdown",
   "metadata": {},
   "source": [
    "### **Limpieza de datos**\n",
    "\n",
    "Comenzamos abordando los **valores duplicados** en el dataset."
   ]
  },
  {
   "cell_type": "code",
   "execution_count": 7,
   "metadata": {},
   "outputs": [
    {
     "data": {
      "text/plain": [
       "np.int64(144)"
      ]
     },
     "execution_count": 7,
     "metadata": {},
     "output_type": "execute_result"
    }
   ],
   "source": [
    "df.duplicated().sum()"
   ]
  },
  {
   "cell_type": "code",
   "execution_count": 8,
   "metadata": {},
   "outputs": [],
   "source": [
    "df.drop_duplicates(inplace=True)"
   ]
  },
  {
   "cell_type": "code",
   "execution_count": 9,
   "metadata": {},
   "outputs": [
    {
     "data": {
      "text/plain": [
       "57905"
      ]
     },
     "execution_count": 9,
     "metadata": {},
     "output_type": "execute_result"
    }
   ],
   "source": [
    "df.shape[0] # Filas tras eliminar duplicados"
   ]
  },
  {
   "cell_type": "markdown",
   "metadata": {},
   "source": [
    "Ahora vamos con las **filas nulas**, ya que los valores nulos pueden afectar el rendimiento de los modelos predictivos."
   ]
  },
  {
   "cell_type": "code",
   "execution_count": 10,
   "metadata": {},
   "outputs": [
    {
     "data": {
      "text/plain": [
       "PRODUCTO               0\n",
       "TIPO_CARROCERIA        0\n",
       "COMBUSTIBLE            0\n",
       "Potencia               0\n",
       "TRANS                  0\n",
       "FORMA_PAGO             0\n",
       "ESTADO_CIVIL         890\n",
       "GENERO               860\n",
       "OcupaciOn              0\n",
       "PROVINCIA              0\n",
       "Campanna1              0\n",
       "Campanna2              0\n",
       "Campanna3              0\n",
       "Zona_Renta         13064\n",
       "REV_Garantia           0\n",
       "Averia_grave           1\n",
       "QUEJA_CAC              0\n",
       "COSTE_VENTA            0\n",
       "km_anno                0\n",
       "Mas_1_coche            0\n",
       "Revisiones             0\n",
       "Edad_Cliente           0\n",
       "Tiempo                 0\n",
       "dtype: int64"
      ]
     },
     "execution_count": 10,
     "metadata": {},
     "output_type": "execute_result"
    }
   ],
   "source": [
    "df.isnull().sum() # Valores nulos"
   ]
  },
  {
   "cell_type": "code",
   "execution_count": 11,
   "metadata": {},
   "outputs": [
    {
     "data": {
      "text/plain": [
       "ESTADO_CIVIL     1.537000\n",
       "GENERO           1.485191\n",
       "Zona_Renta      22.561091\n",
       "Averia_grave     0.001727\n",
       "dtype: float64"
      ]
     },
     "execution_count": 11,
     "metadata": {},
     "output_type": "execute_result"
    }
   ],
   "source": [
    "null_percentage = (df.isnull().sum() / len(df)) * 100 # Porcentaje de valores nulos\n",
    "null_percentage[null_percentage > 0]"
   ]
  },
  {
   "cell_type": "markdown",
   "metadata": {},
   "source": []
  }
 ],
 "metadata": {
  "kernelspec": {
   "display_name": "env",
   "language": "python",
   "name": "python3"
  },
  "language_info": {
   "codemirror_mode": {
    "name": "ipython",
    "version": 3
   },
   "file_extension": ".py",
   "mimetype": "text/x-python",
   "name": "python",
   "nbconvert_exporter": "python",
   "pygments_lexer": "ipython3",
   "version": "3.12.6"
  }
 },
 "nbformat": 4,
 "nbformat_minor": 2
}
